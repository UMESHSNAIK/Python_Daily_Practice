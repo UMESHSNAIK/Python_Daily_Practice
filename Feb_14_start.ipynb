{
  "nbformat": 4,
  "nbformat_minor": 0,
  "metadata": {
    "colab": {
      "provenance": [],
      "authorship_tag": "ABX9TyN5tCHMiS3wWfqyqN4kZop6",
      "include_colab_link": true
    },
    "kernelspec": {
      "name": "python3",
      "display_name": "Python 3"
    },
    "language_info": {
      "name": "python"
    }
  },
  "cells": [
    {
      "cell_type": "markdown",
      "metadata": {
        "id": "view-in-github",
        "colab_type": "text"
      },
      "source": [
        "<a href=\"https://colab.research.google.com/github/UMESHSNAIK/Python_Daily_Practice/blob/main/Feb_14_start.ipynb\" target=\"_parent\"><img src=\"https://colab.research.google.com/assets/colab-badge.svg\" alt=\"Open In Colab\"/></a>"
      ]
    },
    {
      "cell_type": "markdown",
      "source": [
        "Feb 14 Start"
      ],
      "metadata": {
        "id": "tRoJqyzMQJBl"
      }
    },
    {
      "cell_type": "markdown",
      "source": [
        "First program"
      ],
      "metadata": {
        "id": "lSDMWWMpv1JM"
      }
    },
    {
      "cell_type": "code",
      "execution_count": null,
      "metadata": {
        "colab": {
          "base_uri": "https://localhost:8080/"
        },
        "id": "43gDbLjcPzeK",
        "outputId": "ac7ab03d-d981-437f-8c36-830cfc8c8401"
      },
      "outputs": [
        {
          "output_type": "stream",
          "name": "stdout",
          "text": [
            "hello world\n"
          ]
        }
      ],
      "source": [
        "print(\"hello world\")"
      ]
    },
    {
      "cell_type": "markdown",
      "source": [],
      "metadata": {
        "id": "MJVdWZpov0K7"
      }
    },
    {
      "cell_type": "markdown",
      "source": [
        "calculation of simple interest\n",
        "note:-\n",
        "*any variable before accessing it should be declared\n",
        "*print is the statement or a key word it is used for to exctreact a value or a print a value"
      ],
      "metadata": {
        "id": "TkHxpBjnP3dQ"
      }
    },
    {
      "cell_type": "code",
      "source": [
        "p=1000\n",
        "t=2\n",
        "r=10\n",
        "si=p*t*r/100\n",
        "print(si)"
      ],
      "metadata": {
        "colab": {
          "base_uri": "https://localhost:8080/"
        },
        "id": "axzWFKzEP4FI",
        "outputId": "aaf4e2ee-d75c-4ec5-a072-6345ab611182"
      },
      "execution_count": null,
      "outputs": [
        {
          "output_type": "stream",
          "name": "stdout",
          "text": [
            "200.0\n"
          ]
        }
      ]
    },
    {
      "cell_type": "markdown",
      "source": [
        "Method 1:- Average of 3 numbers given: a=10 b=20 c=30"
      ],
      "metadata": {
        "id": "nZVZf-yDR6ff"
      }
    },
    {
      "cell_type": "code",
      "source": [
        "a=10\n",
        "b=20\n",
        "c=30\n",
        "avg=(a+b+c)/3\n",
        "print(avg)"
      ],
      "metadata": {
        "colab": {
          "base_uri": "https://localhost:8080/"
        },
        "id": "wAa6QitnR5h2",
        "outputId": "155c69c7-e0c1-4498-f962-a9b68f95a2f1"
      },
      "execution_count": null,
      "outputs": [
        {
          "output_type": "stream",
          "name": "stdout",
          "text": [
            "20.0\n"
          ]
        }
      ]
    },
    {
      "cell_type": "markdown",
      "source": [
        "Method 2:-"
      ],
      "metadata": {
        "id": "aMYX1Vj4w3iO"
      }
    },
    {
      "cell_type": "code",
      "source": [
        "a,b,c=10,20,30\n",
        "avg=(a+b+c)/3\n",
        "print(avg)"
      ],
      "metadata": {
        "colab": {
          "base_uri": "https://localhost:8080/"
        },
        "id": "GvYuFpnmTGqr",
        "outputId": "581214b2-2158-4467-9a04-8e96d8448563"
      },
      "execution_count": null,
      "outputs": [
        {
          "output_type": "stream",
          "name": "stdout",
          "text": [
            "20.0\n"
          ]
        }
      ]
    }
  ]
}