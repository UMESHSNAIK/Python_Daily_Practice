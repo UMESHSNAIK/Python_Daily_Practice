{
  "nbformat": 4,
  "nbformat_minor": 0,
  "metadata": {
    "colab": {
      "provenance": [],
      "authorship_tag": "ABX9TyN++86Www7m8XdWPW+RW8df",
      "include_colab_link": true
    },
    "kernelspec": {
      "name": "python3",
      "display_name": "Python 3"
    },
    "language_info": {
      "name": "python"
    }
  },
  "cells": [
    {
      "cell_type": "markdown",
      "metadata": {
        "id": "view-in-github",
        "colab_type": "text"
      },
      "source": [
        "<a href=\"https://colab.research.google.com/github/UMESHSNAIK/Python_Daily_Practice/blob/main/Feb_17.ipynb\" target=\"_parent\"><img src=\"https://colab.research.google.com/assets/colab-badge.svg\" alt=\"Open In Colab\"/></a>"
      ]
    },
    {
      "cell_type": "markdown",
      "source": [
        "Feb 17 - User input and conditions"
      ],
      "metadata": {
        "id": "VL-je28gyrwC"
      }
    },
    {
      "cell_type": "markdown",
      "source": [
        "user input 1"
      ],
      "metadata": {
        "id": "STbErfeGyr9N"
      }
    },
    {
      "cell_type": "code",
      "source": [
        "num1=input('enter no.:')\n",
        "num2=input('enter no.:')\n",
        "add=num1+num2\n",
        "print('ans is:',add)"
      ],
      "metadata": {
        "colab": {
          "base_uri": "https://localhost:8080/"
        },
        "id": "5UpXOjazytwU",
        "outputId": "2ae3b4d9-a50d-44ba-f2bd-29071bb7f426"
      },
      "execution_count": 1,
      "outputs": [
        {
          "output_type": "stream",
          "name": "stdout",
          "text": [
            "enter no.:10\n",
            "enter no.:20\n",
            "ans is: 1020\n"
          ]
        }
      ]
    },
    {
      "cell_type": "markdown",
      "source": [
        "User input 2"
      ],
      "metadata": {
        "id": "bqb7Eu9Gy_fg"
      }
    },
    {
      "cell_type": "code",
      "source": [
        "num1=int(input('enter no.'))\n",
        "num2=int(input('enter no.'))\n",
        "add=num1+num2\n",
        "print('Answer is:',add)"
      ],
      "metadata": {
        "colab": {
          "base_uri": "https://localhost:8080/"
        },
        "id": "eXrAvnDty_7K",
        "outputId": "8c836c31-8105-4226-cba8-b7091d84fc0e"
      },
      "execution_count": 5,
      "outputs": [
        {
          "output_type": "stream",
          "name": "stdout",
          "text": [
            "enter no.123\n",
            "enter no.637\n",
            "Answer is: 760\n"
          ]
        }
      ]
    },
    {
      "cell_type": "markdown",
      "source": [
        "Email printing"
      ],
      "metadata": {
        "id": "JvlosKzYzbjz"
      }
    },
    {
      "cell_type": "code",
      "source": [
        "email=input('enter email:')\n",
        "print(email)"
      ],
      "metadata": {
        "colab": {
          "base_uri": "https://localhost:8080/"
        },
        "id": "2NNxpm7tzb2T",
        "outputId": "8c6d04be-0e40-495e-9613-7ca99c813229"
      },
      "execution_count": 7,
      "outputs": [
        {
          "output_type": "stream",
          "name": "stdout",
          "text": [
            "enter email:umesghds1234@gmail.com\n",
            "umesghds1234@gmail.com\n"
          ]
        }
      ]
    },
    {
      "cell_type": "markdown",
      "source": [
        "Tv's Manufacturing"
      ],
      "metadata": {
        "id": "c_nPOfyj0iu8"
      }
    },
    {
      "cell_type": "code",
      "source": [
        "name=input('enter a name:')\n",
        "tvs=int(input('enter no. of tvs:'))\n",
        "salary=tvs*100\n",
        "print(name,'daily wages:',salary)"
      ],
      "metadata": {
        "colab": {
          "base_uri": "https://localhost:8080/"
        },
        "id": "dP1BQkwC0i0a",
        "outputId": "6a68f96a-8e9e-4427-bb71-53e218fbf29e"
      },
      "execution_count": 8,
      "outputs": [
        {
          "output_type": "stream",
          "name": "stdout",
          "text": [
            "enter a name:Umesh\n",
            "enter no. of tvs:23\n",
            "Umesh daily wages: 2300\n"
          ]
        }
      ]
    },
    {
      "cell_type": "markdown",
      "source": [
        "Validate username, pwd using (and)"
      ],
      "metadata": {
        "id": "EWhhSpKf0wLl"
      }
    },
    {
      "cell_type": "code",
      "source": [
        "username=input('enter username:')\n",
        "password=input('enter pwd:')\n",
        "if username=='rama' and password=='1234':\n",
        "  print('login successed')\n",
        "else:\n",
        "  print('login failed')"
      ],
      "metadata": {
        "colab": {
          "base_uri": "https://localhost:8080/"
        },
        "id": "jkNT4ylk0wif",
        "outputId": "27b53c72-2e33-4195-85b3-782a9f9745d2"
      },
      "execution_count": 9,
      "outputs": [
        {
          "output_type": "stream",
          "name": "stdout",
          "text": [
            "enter username:rama\n",
            "enter pwd:1234\n",
            "login successed\n"
          ]
        }
      ]
    },
    {
      "cell_type": "markdown",
      "source": [
        "Validate username,pwd using or\n"
      ],
      "metadata": {
        "id": "bTHYznxV1HYg"
      }
    },
    {
      "cell_type": "code",
      "source": [
        "un=input('enter username:')\n",
        "pwd=input('enter pwd:')\n",
        "if un=='Umesh' or pwd=='1234':\n",
        "  print('login successed')\n",
        "else:\n",
        "  print('login failed')"
      ],
      "metadata": {
        "colab": {
          "base_uri": "https://localhost:8080/"
        },
        "id": "F7RF58k-1Hqz",
        "outputId": "f58e1a4e-8d30-49f6-ce92-f8ee7c4a5984"
      },
      "execution_count": 11,
      "outputs": [
        {
          "output_type": "stream",
          "name": "stdout",
          "text": [
            "enter username:Umesh\n",
            "enter pwd:12345678\n",
            "login successed\n"
          ]
        }
      ]
    },
    {
      "cell_type": "markdown",
      "source": [
        "bike speed check\n"
      ],
      "metadata": {
        "id": "XS1zbYWh1dBF"
      }
    },
    {
      "cell_type": "code",
      "source": [
        "bike=int(input('enter a bike speed:'))\n",
        "if bike>=80:\n",
        "  print('Eligible for race')\n",
        "else:\n",
        "  print('Not eligible for race')"
      ],
      "metadata": {
        "colab": {
          "base_uri": "https://localhost:8080/"
        },
        "id": "TdhxQGc71dK4",
        "outputId": "1de8e4e4-c507-429d-d3b3-be639974c3c2"
      },
      "execution_count": 12,
      "outputs": [
        {
          "output_type": "stream",
          "name": "stdout",
          "text": [
            "enter a bike speed:80\n",
            "Eligible for race\n"
          ]
        }
      ]
    }
  ]
}